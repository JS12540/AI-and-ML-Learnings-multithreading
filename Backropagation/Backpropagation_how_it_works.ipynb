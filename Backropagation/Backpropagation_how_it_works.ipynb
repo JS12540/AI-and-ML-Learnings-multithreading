{
  "nbformat": 4,
  "nbformat_minor": 0,
  "metadata": {
    "colab": {
      "provenance": []
    },
    "kernelspec": {
      "name": "python3",
      "display_name": "Python 3"
    },
    "language_info": {
      "name": "python"
    }
  },
  "cells": [
    {
      "cell_type": "code",
      "execution_count": 2,
      "metadata": {
        "id": "Cipzt45CKiGp",
        "colab": {
          "base_uri": "https://localhost:8080/"
        },
        "outputId": "5fcbe968-6706-4d81-d1b9-34288c0877cc"
      },
      "outputs": [
        {
          "output_type": "stream",
          "name": "stdout",
          "text": [
            "Epoch 0, Loss: 0.25775485393630204\n",
            "Epoch 100, Loss: 0.2505429126382394\n",
            "Epoch 200, Loss: 0.2503151259452169\n",
            "Epoch 300, Loss: 0.2501312878436258\n",
            "Epoch 400, Loss: 0.24996535638790318\n",
            "Epoch 500, Loss: 0.24979591774881596\n",
            "Epoch 600, Loss: 0.24959991070242982\n",
            "Epoch 700, Loss: 0.24934835213014198\n",
            "Epoch 800, Loss: 0.24900070442956293\n",
            "Epoch 900, Loss: 0.2484973886422286\n",
            "Predictions after training:\n",
            "[[0.47344033 0.49678924 0.51502793 0.52767364]]\n"
          ]
        }
      ],
      "source": [
        "import numpy as np\n",
        "\n",
        "# Sigmoid Activation Function and its derivative\n",
        "def sigmoid(x):\n",
        "    return 1 / (1 + np.exp(-x))\n",
        "\n",
        "def sigmoid_derivative(x):\n",
        "    return x * (1 - x)\n",
        "\n",
        "class SimpleNeuralNetwork:\n",
        "    def __init__(self, input_size, hidden_size, output_size):\n",
        "        # Initialize weights and biases randomly\n",
        "        self.W1 = np.random.randn(hidden_size, input_size)  # Weights for hidden layer\n",
        "        self.b1 = np.random.randn(hidden_size, 1)          # Bias for hidden layer\n",
        "        self.W2 = np.random.randn(output_size, hidden_size) # Weights for output layer\n",
        "        self.b2 = np.random.randn(output_size, 1)          # Bias for output layer\n",
        "\n",
        "    def forward(self,X):\n",
        "        # Forward pass\n",
        "        self.z1 = np.dot(self.W1, X) + self.b1\n",
        "        self.a1 = sigmoid(self.z1)        # Activation for hidden layer\n",
        "\n",
        "        self.z2 = np.dot(self.W2, self.a1) + self.b2\n",
        "        self.a2 = sigmoid(self.z2)        # Activation (output) for final layer\n",
        "\n",
        "        return self.a2\n",
        "\n",
        "    def backward(self, X,y, learning_rate):\n",
        "        delta2 = (self.a2 - y) * sigmoid_derivative(self.a2)\n",
        "        delta1 = np.dot(self.W2.T, delta2) * sigmoid_derivative(self.a1)\n",
        "\n",
        "        self.W2 -= learning_rate*(np.dot(delta2,self.a1.T))\n",
        "        self.b2 -= learning_rate * np.sum(delta2, axis=1, keepdims=True)\n",
        "\n",
        "        # Update hidden layer weights and biases\n",
        "        self.W1 -= learning_rate * np.dot(delta1, X.T)\n",
        "        self.b1 -= learning_rate * np.sum(delta1, axis=1, keepdims=True)\n",
        "\n",
        "    def train(self, X, y, epochs, learning_rate):\n",
        "        for epoch in range(epochs):\n",
        "            output = self.forward(X)\n",
        "\n",
        "            # Backpropagation\n",
        "            self.backward(X, y, learning_rate)\n",
        "\n",
        "            if epoch % 100 == 0:\n",
        "                loss = np.mean((y - output) ** 2)  # MSE Loss\n",
        "                print(f\"Epoch {epoch}, Loss: {loss}\")\n",
        "\n",
        "# Sample data (XOR problem)\n",
        "X = np.array([[0, 0], [0, 1], [1, 0], [1, 1]]).T  # 2 inputs\n",
        "y = np.array([[0], [1], [1], [0]]).T              # 1 output\n",
        "\n",
        "# Instantiate the neural network\n",
        "nn = SimpleNeuralNetwork(input_size=2, hidden_size=2, output_size=1)\n",
        "\n",
        "# Train the network\n",
        "nn.train(X, y, epochs=1000, learning_rate=0.1)\n",
        "\n",
        "# Test the network\n",
        "print(\"Predictions after training:\")\n",
        "print(nn.forward(X))"
      ]
    }
  ]
}